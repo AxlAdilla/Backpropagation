{
 "cells": [
  {
   "cell_type": "markdown",
   "metadata": {},
   "source": [
    "<h1>Program Jaringan Saraf Tiruan</h1>\n",
    "<h2>Backpropagation</h2>\n",
    "<h3>Kelompok:</h3>\n",
    "<ul>\n",
    "    <li>Arif Yuniarto F B</li>\n",
    "    <li>Axl Adilla</li>\n",
    "    <li>Faseh Kurnianto</li>\n",
    "    <li>Fail Wildan M</li>\n",
    "    <li>Ahmad Nabil Q</li>\n",
    "</ul>\n",
    "<hr><hr>"
   ]
  },
  {
   "cell_type": "markdown",
   "metadata": {},
   "source": [
    "<h3>Aplikasi Rekognisi Angka 0 - 3</h3>"
   ]
  },
  {
   "cell_type": "markdown",
   "metadata": {},
   "source": [
    "<img src=\"numReg.png\" width=500 />"
   ]
  },
  {
   "cell_type": "markdown",
   "metadata": {},
   "source": [
    "<hr>"
   ]
  },
  {
   "cell_type": "code",
   "execution_count": 1,
   "metadata": {},
   "outputs": [],
   "source": [
    "import ipywidgets as Widget\n",
    "from IPython.display import clear_output\n",
    "from numpy import array,zeros"
   ]
  },
  {
   "cell_type": "markdown",
   "metadata": {},
   "source": [
    "Fungsi Untuk Pembentukan Pola dari Input"
   ]
  },
  {
   "cell_type": "code",
   "execution_count": 2,
   "metadata": {},
   "outputs": [],
   "source": [
    "def klasifikasi(y):\n",
    "    kode = y.index(max(y))\n",
    "    if kode is 0:\n",
    "        print('Pola Diklasifikasikan termasuk Bilangan 1')\n",
    "    elif kode is 1:\n",
    "        print('Pola Diklasifikasikan termasuk Bilangan 2')\n",
    "    elif kode is 2:\n",
    "        print('Pola Diklasifikasikan termasuk Bilangan 3')\n",
    "    else:\n",
    "        print('Pola Diklasifikasikan termasuk Bilangan 0')"
   ]
  },
  {
   "cell_type": "code",
   "execution_count": 3,
   "metadata": {},
   "outputs": [],
   "source": [
    "def goNeuralNetwork(x):\n",
    "    from numpy import array,zeros\n",
    "    import json\n",
    "    import math\n",
    "    file = open('bobot.txt')\n",
    "    data = json.load(file)\n",
    "    file.close()\n",
    "\n",
    "    #load bobot terlatih\n",
    "    w = data['w']\n",
    "    v = data['v']\n",
    "    \n",
    "    #inisialisasi variabel\n",
    "    numOfNeuronHidden = 10\n",
    "    numOfNeuronOutput = 4\n",
    "    numOfNeuronInput = 15\n",
    "    nZ = [0]*numOfNeuronHidden\n",
    "    z  = [0]*numOfNeuronHidden\n",
    "    nY = [0]*numOfNeuronOutput\n",
    "    y  = [0]*numOfNeuronOutput\n",
    "    \n",
    "    #feedforward\n",
    "    #nZi\n",
    "    for j in range(numOfNeuronHidden):\n",
    "        for i in range(numOfNeuronInput):\n",
    "            nZ[j] += x[i]*v[i][j]    \n",
    "        nZ[j] += v[numOfNeuronInput][j]\n",
    "    \n",
    "    #Zi\n",
    "    for i in range(numOfNeuronHidden):\n",
    "        z[i]=1/(1+(math.exp(-nZ[i])))\n",
    "    \n",
    "    #nY\n",
    "    for j in range(numOfNeuronOutput):\n",
    "        for i in range(numOfNeuronHidden):\n",
    "            nY[j] += z[i]*w[i][j]    \n",
    "        nY[j] += v[numOfNeuronHidden][j]\n",
    "    \n",
    "    #Y\n",
    "    for i in range(numOfNeuronOutput):\n",
    "        y[i]=1/(1+(math.exp(-nY[i])))\n",
    "    \n",
    "    #klasifikasi\n",
    "    klasifikasi(y)"
   ]
  },
  {
   "cell_type": "code",
   "execution_count": 7,
   "metadata": {},
   "outputs": [],
   "source": [
    "def inputHandler(e):\n",
    "    \n",
    "    digit = []\n",
    "    for i in polaInput:\n",
    "        if i.value:\n",
    "            digit.append(1)\n",
    "        else:\n",
    "            digit.append(0)\n",
    "    #print(digit)\n",
    "    goNeuralNetwork(digit)"
   ]
  },
  {
   "cell_type": "markdown",
   "metadata": {},
   "source": [
    "<hr>\n",
    "Input Pola yang akan diperiksa"
   ]
  },
  {
   "cell_type": "code",
   "execution_count": 5,
   "metadata": {},
   "outputs": [
    {
     "data": {
      "application/vnd.jupyter.widget-view+json": {
       "model_id": "4fe57351fb3a42f5ac065053f24a1098",
       "version_major": 2,
       "version_minor": 0
      },
      "text/plain": [
       "VBox(children=(HBox(children=(Checkbox(value=False), Checkbox(value=False), Checkbox(value=False))), HBox(chil…"
      ]
     },
     "metadata": {},
     "output_type": "display_data"
    }
   ],
   "source": [
    "polaInput = [Widget.Checkbox(),Widget.Checkbox(),Widget.Checkbox(),Widget.Checkbox(),Widget.Checkbox(),\n",
    "     Widget.Checkbox(),Widget.Checkbox(),Widget.Checkbox(),Widget.Checkbox(),Widget.Checkbox(),\n",
    "     Widget.Checkbox(),Widget.Checkbox(),Widget.Checkbox(),Widget.Checkbox(),Widget.Checkbox()]\n",
    "kolom=[]\n",
    "for i in range(0,15,3):\n",
    "    batasBawah = int(i / 3)*3\n",
    "    batasAtas = batasBawah + 3 \n",
    "    kolom.append(Widget.HBox(polaInput[batasBawah:batasAtas]))\n",
    "Widget.VBox(kolom)"
   ]
  },
  {
   "cell_type": "code",
   "execution_count": 8,
   "metadata": {},
   "outputs": [
    {
     "data": {
      "application/vnd.jupyter.widget-view+json": {
       "model_id": "05c34926ed3a41708f7511aba22d86de",
       "version_major": 2,
       "version_minor": 0
      },
      "text/plain": [
       "Button(description='Klasifikasi', style=ButtonStyle())"
      ]
     },
     "metadata": {},
     "output_type": "display_data"
    },
    {
     "name": "stdout",
     "output_type": "stream",
     "text": [
      "Pola Diklasifikasikan termasuk Bilangan 1\n",
      "Pola Diklasifikasikan termasuk Bilangan 1\n",
      "Pola Diklasifikasikan termasuk Bilangan 1\n",
      "Pola Diklasifikasikan termasuk Bilangan 1\n",
      "Pola Diklasifikasikan termasuk Bilangan 3\n",
      "Pola Diklasifikasikan termasuk Bilangan 3\n",
      "Pola Diklasifikasikan termasuk Bilangan 3\n",
      "Pola Diklasifikasikan termasuk Bilangan 2\n",
      "Pola Diklasifikasikan termasuk Bilangan 2\n",
      "Pola Diklasifikasikan termasuk Bilangan 2\n",
      "Pola Diklasifikasikan termasuk Bilangan 0\n",
      "Pola Diklasifikasikan termasuk Bilangan 1\n",
      "Pola Diklasifikasikan termasuk Bilangan 1\n",
      "Pola Diklasifikasikan termasuk Bilangan 1\n",
      "Pola Diklasifikasikan termasuk Bilangan 1\n",
      "Pola Diklasifikasikan termasuk Bilangan 0\n",
      "Pola Diklasifikasikan termasuk Bilangan 2\n",
      "Pola Diklasifikasikan termasuk Bilangan 2\n"
     ]
    }
   ],
   "source": [
    "button = Widget.Button(\n",
    "    description='Klasifikasi'\n",
    ")\n",
    "button.on_click(inputHandler)\n",
    "button"
   ]
  }
 ],
 "metadata": {
  "kernelspec": {
   "display_name": "Python 3",
   "language": "python",
   "name": "python3"
  },
  "language_info": {
   "codemirror_mode": {
    "name": "ipython",
    "version": 3
   },
   "file_extension": ".py",
   "mimetype": "text/x-python",
   "name": "python",
   "nbconvert_exporter": "python",
   "pygments_lexer": "ipython3",
   "version": "3.7.1"
  }
 },
 "nbformat": 4,
 "nbformat_minor": 2
}
