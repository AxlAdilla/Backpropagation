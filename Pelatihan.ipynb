{
 "cells": [
  {
   "cell_type": "markdown",
   "metadata": {},
   "source": [
    "<h1>Program Jaringan Saraf Tiruan</h1>\n",
    "<h2>Backpropagation</h2>\n",
    "<h3>Kelompok:</h3>\n",
    "<ul>\n",
    "    <li>Arif Yuniarto F B</li>\n",
    "    <li>Axl Adilla</li>\n",
    "    <li>Faseh Kurnianto</li>\n",
    "    <li>Fail Wildan M</li>\n",
    "    <li>Ahmad Nabil Q</li>\n",
    "</ul>\n",
    "<hr><h3>Pelatihan</h3><hr>\n",
    "<img src=\"numReg.png\" width=500 /><hr>"
   ]
  },
  {
   "cell_type": "code",
   "execution_count": 2,
   "metadata": {},
   "outputs": [],
   "source": [
    "from NeuralNetwork import NeuralNetwork\n",
    "jst = NeuralNetwork(1000,1,0.01)\n",
    "jst.randomBobot()\n",
    "\n",
    "while not jst.kondisi_berhenti():\n",
    "    for indexPembelajaran in range(len(jst.dataPelatihan)):\n",
    "        jst.feedforward(indexPembelajaran)\n",
    "        jst.backpropagation(indexPembelajaran)\n",
    "        jst.ubahData()        \n",
    "        #jst.hitungAvgError()\n",
    "    jst.epoh += 1\n",
    "    \n",
    "jst.createFile()        "
   ]
  },
  {
   "cell_type": "code",
   "execution_count": null,
   "metadata": {},
   "outputs": [],
   "source": []
  }
 ],
 "metadata": {
  "kernelspec": {
   "display_name": "Python 3",
   "language": "python",
   "name": "python3"
  },
  "language_info": {
   "codemirror_mode": {
    "name": "ipython",
    "version": 3
   },
   "file_extension": ".py",
   "mimetype": "text/x-python",
   "name": "python",
   "nbconvert_exporter": "python",
   "pygments_lexer": "ipython3",
   "version": "3.7.1"
  }
 },
 "nbformat": 4,
 "nbformat_minor": 2
}
